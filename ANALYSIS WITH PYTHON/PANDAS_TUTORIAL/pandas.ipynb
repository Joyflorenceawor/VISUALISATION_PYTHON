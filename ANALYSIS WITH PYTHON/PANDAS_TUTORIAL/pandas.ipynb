{
 "cells": [
  {
   "cell_type": "code",
   "execution_count": 1,
   "metadata": {},
   "outputs": [],
   "source": [
    "import pandas as pd\n",
    "import numpy as np\n",
    "import seaborn as sns\n",
    "import matplotlib as plt"
   ]
  },
  {
   "cell_type": "code",
   "execution_count": 2,
   "metadata": {},
   "outputs": [
    {
     "data": {
      "text/plain": [
       "0     1.0\n",
       "1     2.0\n",
       "2     3.0\n",
       "3     4.0\n",
       "4     5.0\n",
       "5     NaN\n",
       "6     7.0\n",
       "7     8.0\n",
       "8     9.0\n",
       "9    10.0\n",
       "dtype: float64"
      ]
     },
     "execution_count": 2,
     "metadata": {},
     "output_type": "execute_result"
    }
   ],
   "source": [
    "s = pd.Series([1,2,3,4,5,np.nan,7,8,9,10])\n",
    "s"
   ]
  },
  {
   "cell_type": "code",
   "execution_count": 3,
   "metadata": {},
   "outputs": [
    {
     "data": {
      "text/plain": [
       "DatetimeIndex(['2020-03-01', '2020-03-02', '2020-03-03', '2020-03-04',\n",
       "               '2020-03-05', '2020-03-06', '2020-03-07', '2020-03-08',\n",
       "               '2020-03-09', '2020-03-10'],\n",
       "              dtype='datetime64[ns]', freq='D')"
      ]
     },
     "execution_count": 3,
     "metadata": {},
     "output_type": "execute_result"
    }
   ],
   "source": [
    "d = pd.date_range('20200301',periods=10)\n",
    "d"
   ]
  },
  {
   "cell_type": "code",
   "execution_count": 6,
   "metadata": {},
   "outputs": [
    {
     "data": {
      "text/html": [
       "<div>\n",
       "<style scoped>\n",
       "    .dataframe tbody tr th:only-of-type {\n",
       "        vertical-align: middle;\n",
       "    }\n",
       "\n",
       "    .dataframe tbody tr th {\n",
       "        vertical-align: top;\n",
       "    }\n",
       "\n",
       "    .dataframe thead th {\n",
       "        text-align: right;\n",
       "    }\n",
       "</style>\n",
       "<table border=\"1\" class=\"dataframe\">\n",
       "  <thead>\n",
       "    <tr style=\"text-align: right;\">\n",
       "      <th></th>\n",
       "      <th>A</th>\n",
       "      <th>B</th>\n",
       "      <th>C</th>\n",
       "      <th>D</th>\n",
       "    </tr>\n",
       "  </thead>\n",
       "  <tbody>\n",
       "    <tr>\n",
       "      <th>2020-03-01</th>\n",
       "      <td>-1.224448</td>\n",
       "      <td>1.307649</td>\n",
       "      <td>1.491779</td>\n",
       "      <td>0.077821</td>\n",
       "    </tr>\n",
       "    <tr>\n",
       "      <th>2020-03-02</th>\n",
       "      <td>-0.458496</td>\n",
       "      <td>-0.169703</td>\n",
       "      <td>0.868031</td>\n",
       "      <td>1.853586</td>\n",
       "    </tr>\n",
       "    <tr>\n",
       "      <th>2020-03-03</th>\n",
       "      <td>0.676724</td>\n",
       "      <td>1.020712</td>\n",
       "      <td>-1.008034</td>\n",
       "      <td>0.046598</td>\n",
       "    </tr>\n",
       "    <tr>\n",
       "      <th>2020-03-04</th>\n",
       "      <td>-0.747917</td>\n",
       "      <td>-0.598876</td>\n",
       "      <td>1.432268</td>\n",
       "      <td>0.947864</td>\n",
       "    </tr>\n",
       "    <tr>\n",
       "      <th>2020-03-05</th>\n",
       "      <td>-1.185416</td>\n",
       "      <td>1.402392</td>\n",
       "      <td>-0.139310</td>\n",
       "      <td>1.508467</td>\n",
       "    </tr>\n",
       "    <tr>\n",
       "      <th>2020-03-06</th>\n",
       "      <td>0.401397</td>\n",
       "      <td>1.007713</td>\n",
       "      <td>-0.845438</td>\n",
       "      <td>-1.174674</td>\n",
       "    </tr>\n",
       "    <tr>\n",
       "      <th>2020-03-07</th>\n",
       "      <td>0.558969</td>\n",
       "      <td>-0.409444</td>\n",
       "      <td>-0.815058</td>\n",
       "      <td>0.009850</td>\n",
       "    </tr>\n",
       "    <tr>\n",
       "      <th>2020-03-08</th>\n",
       "      <td>-1.893372</td>\n",
       "      <td>0.970586</td>\n",
       "      <td>-0.239539</td>\n",
       "      <td>0.817231</td>\n",
       "    </tr>\n",
       "    <tr>\n",
       "      <th>2020-03-09</th>\n",
       "      <td>1.406569</td>\n",
       "      <td>-1.641007</td>\n",
       "      <td>0.829385</td>\n",
       "      <td>1.785618</td>\n",
       "    </tr>\n",
       "    <tr>\n",
       "      <th>2020-03-10</th>\n",
       "      <td>0.886130</td>\n",
       "      <td>0.548115</td>\n",
       "      <td>1.961502</td>\n",
       "      <td>0.197520</td>\n",
       "    </tr>\n",
       "  </tbody>\n",
       "</table>\n",
       "</div>"
      ],
      "text/plain": [
       "                   A         B         C         D\n",
       "2020-03-01 -1.224448  1.307649  1.491779  0.077821\n",
       "2020-03-02 -0.458496 -0.169703  0.868031  1.853586\n",
       "2020-03-03  0.676724  1.020712 -1.008034  0.046598\n",
       "2020-03-04 -0.747917 -0.598876  1.432268  0.947864\n",
       "2020-03-05 -1.185416  1.402392 -0.139310  1.508467\n",
       "2020-03-06  0.401397  1.007713 -0.845438 -1.174674\n",
       "2020-03-07  0.558969 -0.409444 -0.815058  0.009850\n",
       "2020-03-08 -1.893372  0.970586 -0.239539  0.817231\n",
       "2020-03-09  1.406569 -1.641007  0.829385  1.785618\n",
       "2020-03-10  0.886130  0.548115  1.961502  0.197520"
      ]
     },
     "execution_count": 6,
     "metadata": {},
     "output_type": "execute_result"
    }
   ],
   "source": [
    "df1 = pd.DataFrame(np.random.randn(10,4),index=d,columns=['A','B','C','D'])\n",
    "df1"
   ]
  },
  {
   "cell_type": "code",
   "execution_count": 7,
   "metadata": {},
   "outputs": [
    {
     "data": {
      "text/html": [
       "<div>\n",
       "<style scoped>\n",
       "    .dataframe tbody tr th:only-of-type {\n",
       "        vertical-align: middle;\n",
       "    }\n",
       "\n",
       "    .dataframe tbody tr th {\n",
       "        vertical-align: top;\n",
       "    }\n",
       "\n",
       "    .dataframe thead th {\n",
       "        text-align: right;\n",
       "    }\n",
       "</style>\n",
       "<table border=\"1\" class=\"dataframe\">\n",
       "  <thead>\n",
       "    <tr style=\"text-align: right;\">\n",
       "      <th></th>\n",
       "      <th>A</th>\n",
       "      <th>B</th>\n",
       "      <th>C</th>\n",
       "      <th>D</th>\n",
       "    </tr>\n",
       "  </thead>\n",
       "  <tbody>\n",
       "    <tr>\n",
       "      <th>2020-03-01</th>\n",
       "      <td>-1.224448</td>\n",
       "      <td>1.307649</td>\n",
       "      <td>1.491779</td>\n",
       "      <td>0.077821</td>\n",
       "    </tr>\n",
       "    <tr>\n",
       "      <th>2020-03-02</th>\n",
       "      <td>-0.458496</td>\n",
       "      <td>-0.169703</td>\n",
       "      <td>0.868031</td>\n",
       "      <td>1.853586</td>\n",
       "    </tr>\n",
       "    <tr>\n",
       "      <th>2020-03-03</th>\n",
       "      <td>0.676724</td>\n",
       "      <td>1.020712</td>\n",
       "      <td>-1.008034</td>\n",
       "      <td>0.046598</td>\n",
       "    </tr>\n",
       "    <tr>\n",
       "      <th>2020-03-04</th>\n",
       "      <td>-0.747917</td>\n",
       "      <td>-0.598876</td>\n",
       "      <td>1.432268</td>\n",
       "      <td>0.947864</td>\n",
       "    </tr>\n",
       "    <tr>\n",
       "      <th>2020-03-05</th>\n",
       "      <td>-1.185416</td>\n",
       "      <td>1.402392</td>\n",
       "      <td>-0.139310</td>\n",
       "      <td>1.508467</td>\n",
       "    </tr>\n",
       "  </tbody>\n",
       "</table>\n",
       "</div>"
      ],
      "text/plain": [
       "                   A         B         C         D\n",
       "2020-03-01 -1.224448  1.307649  1.491779  0.077821\n",
       "2020-03-02 -0.458496 -0.169703  0.868031  1.853586\n",
       "2020-03-03  0.676724  1.020712 -1.008034  0.046598\n",
       "2020-03-04 -0.747917 -0.598876  1.432268  0.947864\n",
       "2020-03-05 -1.185416  1.402392 -0.139310  1.508467"
      ]
     },
     "execution_count": 7,
     "metadata": {},
     "output_type": "execute_result"
    }
   ],
   "source": [
    "#Viewing of the dataframe\n",
    "df1.head()"
   ]
  },
  {
   "cell_type": "code",
   "execution_count": 8,
   "metadata": {},
   "outputs": [
    {
     "data": {
      "text/plain": [
       "DatetimeIndex(['2020-03-01', '2020-03-02', '2020-03-03', '2020-03-04',\n",
       "               '2020-03-05', '2020-03-06', '2020-03-07', '2020-03-08',\n",
       "               '2020-03-09', '2020-03-10'],\n",
       "              dtype='datetime64[ns]', freq='D')"
      ]
     },
     "execution_count": 8,
     "metadata": {},
     "output_type": "execute_result"
    }
   ],
   "source": [
    "df1.index"
   ]
  },
  {
   "cell_type": "code",
   "execution_count": 9,
   "metadata": {},
   "outputs": [
    {
     "data": {
      "text/plain": [
       "Index(['A', 'B', 'C', 'D'], dtype='object')"
      ]
     },
     "execution_count": 9,
     "metadata": {},
     "output_type": "execute_result"
    }
   ],
   "source": [
    "df1.columns"
   ]
  },
  {
   "cell_type": "code",
   "execution_count": 10,
   "metadata": {},
   "outputs": [
    {
     "data": {
      "text/html": [
       "<div>\n",
       "<style scoped>\n",
       "    .dataframe tbody tr th:only-of-type {\n",
       "        vertical-align: middle;\n",
       "    }\n",
       "\n",
       "    .dataframe tbody tr th {\n",
       "        vertical-align: top;\n",
       "    }\n",
       "\n",
       "    .dataframe thead th {\n",
       "        text-align: right;\n",
       "    }\n",
       "</style>\n",
       "<table border=\"1\" class=\"dataframe\">\n",
       "  <thead>\n",
       "    <tr style=\"text-align: right;\">\n",
       "      <th></th>\n",
       "      <th>A</th>\n",
       "      <th>B</th>\n",
       "      <th>C</th>\n",
       "      <th>D</th>\n",
       "    </tr>\n",
       "  </thead>\n",
       "  <tbody>\n",
       "    <tr>\n",
       "      <th>count</th>\n",
       "      <td>10.000000</td>\n",
       "      <td>10.000000</td>\n",
       "      <td>10.000000</td>\n",
       "      <td>10.000000</td>\n",
       "    </tr>\n",
       "    <tr>\n",
       "      <th>mean</th>\n",
       "      <td>-0.157986</td>\n",
       "      <td>0.343814</td>\n",
       "      <td>0.353559</td>\n",
       "      <td>0.606988</td>\n",
       "    </tr>\n",
       "    <tr>\n",
       "      <th>std</th>\n",
       "      <td>1.090592</td>\n",
       "      <td>1.002352</td>\n",
       "      <td>1.094817</td>\n",
       "      <td>0.955036</td>\n",
       "    </tr>\n",
       "    <tr>\n",
       "      <th>min</th>\n",
       "      <td>-1.893372</td>\n",
       "      <td>-1.641007</td>\n",
       "      <td>-1.008034</td>\n",
       "      <td>-1.174674</td>\n",
       "    </tr>\n",
       "    <tr>\n",
       "      <th>25%</th>\n",
       "      <td>-1.076041</td>\n",
       "      <td>-0.349508</td>\n",
       "      <td>-0.671178</td>\n",
       "      <td>0.054403</td>\n",
       "    </tr>\n",
       "    <tr>\n",
       "      <th>50%</th>\n",
       "      <td>-0.028549</td>\n",
       "      <td>0.759351</td>\n",
       "      <td>0.345038</td>\n",
       "      <td>0.507376</td>\n",
       "    </tr>\n",
       "    <tr>\n",
       "      <th>75%</th>\n",
       "      <td>0.647285</td>\n",
       "      <td>1.017462</td>\n",
       "      <td>1.291209</td>\n",
       "      <td>1.368316</td>\n",
       "    </tr>\n",
       "    <tr>\n",
       "      <th>max</th>\n",
       "      <td>1.406569</td>\n",
       "      <td>1.402392</td>\n",
       "      <td>1.961502</td>\n",
       "      <td>1.853586</td>\n",
       "    </tr>\n",
       "  </tbody>\n",
       "</table>\n",
       "</div>"
      ],
      "text/plain": [
       "               A          B          C          D\n",
       "count  10.000000  10.000000  10.000000  10.000000\n",
       "mean   -0.157986   0.343814   0.353559   0.606988\n",
       "std     1.090592   1.002352   1.094817   0.955036\n",
       "min    -1.893372  -1.641007  -1.008034  -1.174674\n",
       "25%    -1.076041  -0.349508  -0.671178   0.054403\n",
       "50%    -0.028549   0.759351   0.345038   0.507376\n",
       "75%     0.647285   1.017462   1.291209   1.368316\n",
       "max     1.406569   1.402392   1.961502   1.853586"
      ]
     },
     "execution_count": 10,
     "metadata": {},
     "output_type": "execute_result"
    }
   ],
   "source": [
    "df1.describe()"
   ]
  },
  {
   "cell_type": "code",
   "execution_count": 11,
   "metadata": {},
   "outputs": [
    {
     "data": {
      "text/html": [
       "<div>\n",
       "<style scoped>\n",
       "    .dataframe tbody tr th:only-of-type {\n",
       "        vertical-align: middle;\n",
       "    }\n",
       "\n",
       "    .dataframe tbody tr th {\n",
       "        vertical-align: top;\n",
       "    }\n",
       "\n",
       "    .dataframe thead th {\n",
       "        text-align: right;\n",
       "    }\n",
       "</style>\n",
       "<table border=\"1\" class=\"dataframe\">\n",
       "  <thead>\n",
       "    <tr style=\"text-align: right;\">\n",
       "      <th></th>\n",
       "      <th>D</th>\n",
       "      <th>C</th>\n",
       "      <th>B</th>\n",
       "      <th>A</th>\n",
       "    </tr>\n",
       "  </thead>\n",
       "  <tbody>\n",
       "    <tr>\n",
       "      <th>2020-03-01</th>\n",
       "      <td>0.077821</td>\n",
       "      <td>1.491779</td>\n",
       "      <td>1.307649</td>\n",
       "      <td>-1.224448</td>\n",
       "    </tr>\n",
       "    <tr>\n",
       "      <th>2020-03-02</th>\n",
       "      <td>1.853586</td>\n",
       "      <td>0.868031</td>\n",
       "      <td>-0.169703</td>\n",
       "      <td>-0.458496</td>\n",
       "    </tr>\n",
       "    <tr>\n",
       "      <th>2020-03-03</th>\n",
       "      <td>0.046598</td>\n",
       "      <td>-1.008034</td>\n",
       "      <td>1.020712</td>\n",
       "      <td>0.676724</td>\n",
       "    </tr>\n",
       "    <tr>\n",
       "      <th>2020-03-04</th>\n",
       "      <td>0.947864</td>\n",
       "      <td>1.432268</td>\n",
       "      <td>-0.598876</td>\n",
       "      <td>-0.747917</td>\n",
       "    </tr>\n",
       "    <tr>\n",
       "      <th>2020-03-05</th>\n",
       "      <td>1.508467</td>\n",
       "      <td>-0.139310</td>\n",
       "      <td>1.402392</td>\n",
       "      <td>-1.185416</td>\n",
       "    </tr>\n",
       "    <tr>\n",
       "      <th>2020-03-06</th>\n",
       "      <td>-1.174674</td>\n",
       "      <td>-0.845438</td>\n",
       "      <td>1.007713</td>\n",
       "      <td>0.401397</td>\n",
       "    </tr>\n",
       "    <tr>\n",
       "      <th>2020-03-07</th>\n",
       "      <td>0.009850</td>\n",
       "      <td>-0.815058</td>\n",
       "      <td>-0.409444</td>\n",
       "      <td>0.558969</td>\n",
       "    </tr>\n",
       "    <tr>\n",
       "      <th>2020-03-08</th>\n",
       "      <td>0.817231</td>\n",
       "      <td>-0.239539</td>\n",
       "      <td>0.970586</td>\n",
       "      <td>-1.893372</td>\n",
       "    </tr>\n",
       "    <tr>\n",
       "      <th>2020-03-09</th>\n",
       "      <td>1.785618</td>\n",
       "      <td>0.829385</td>\n",
       "      <td>-1.641007</td>\n",
       "      <td>1.406569</td>\n",
       "    </tr>\n",
       "    <tr>\n",
       "      <th>2020-03-10</th>\n",
       "      <td>0.197520</td>\n",
       "      <td>1.961502</td>\n",
       "      <td>0.548115</td>\n",
       "      <td>0.886130</td>\n",
       "    </tr>\n",
       "  </tbody>\n",
       "</table>\n",
       "</div>"
      ],
      "text/plain": [
       "                   D         C         B         A\n",
       "2020-03-01  0.077821  1.491779  1.307649 -1.224448\n",
       "2020-03-02  1.853586  0.868031 -0.169703 -0.458496\n",
       "2020-03-03  0.046598 -1.008034  1.020712  0.676724\n",
       "2020-03-04  0.947864  1.432268 -0.598876 -0.747917\n",
       "2020-03-05  1.508467 -0.139310  1.402392 -1.185416\n",
       "2020-03-06 -1.174674 -0.845438  1.007713  0.401397\n",
       "2020-03-07  0.009850 -0.815058 -0.409444  0.558969\n",
       "2020-03-08  0.817231 -0.239539  0.970586 -1.893372\n",
       "2020-03-09  1.785618  0.829385 -1.641007  1.406569\n",
       "2020-03-10  0.197520  1.961502  0.548115  0.886130"
      ]
     },
     "execution_count": 11,
     "metadata": {},
     "output_type": "execute_result"
    }
   ],
   "source": [
    "df1.sort_index(axis=1, ascending=False)\n",
    "#axis1 means sort the columns in descending other"
   ]
  },
  {
   "cell_type": "code",
   "execution_count": 12,
   "metadata": {},
   "outputs": [
    {
     "data": {
      "text/html": [
       "<div>\n",
       "<style scoped>\n",
       "    .dataframe tbody tr th:only-of-type {\n",
       "        vertical-align: middle;\n",
       "    }\n",
       "\n",
       "    .dataframe tbody tr th {\n",
       "        vertical-align: top;\n",
       "    }\n",
       "\n",
       "    .dataframe thead th {\n",
       "        text-align: right;\n",
       "    }\n",
       "</style>\n",
       "<table border=\"1\" class=\"dataframe\">\n",
       "  <thead>\n",
       "    <tr style=\"text-align: right;\">\n",
       "      <th></th>\n",
       "      <th>A</th>\n",
       "      <th>B</th>\n",
       "      <th>C</th>\n",
       "      <th>D</th>\n",
       "    </tr>\n",
       "  </thead>\n",
       "  <tbody>\n",
       "    <tr>\n",
       "      <th>2020-03-03</th>\n",
       "      <td>0.676724</td>\n",
       "      <td>1.020712</td>\n",
       "      <td>-1.008034</td>\n",
       "      <td>0.046598</td>\n",
       "    </tr>\n",
       "    <tr>\n",
       "      <th>2020-03-06</th>\n",
       "      <td>0.401397</td>\n",
       "      <td>1.007713</td>\n",
       "      <td>-0.845438</td>\n",
       "      <td>-1.174674</td>\n",
       "    </tr>\n",
       "    <tr>\n",
       "      <th>2020-03-07</th>\n",
       "      <td>0.558969</td>\n",
       "      <td>-0.409444</td>\n",
       "      <td>-0.815058</td>\n",
       "      <td>0.009850</td>\n",
       "    </tr>\n",
       "    <tr>\n",
       "      <th>2020-03-08</th>\n",
       "      <td>-1.893372</td>\n",
       "      <td>0.970586</td>\n",
       "      <td>-0.239539</td>\n",
       "      <td>0.817231</td>\n",
       "    </tr>\n",
       "    <tr>\n",
       "      <th>2020-03-05</th>\n",
       "      <td>-1.185416</td>\n",
       "      <td>1.402392</td>\n",
       "      <td>-0.139310</td>\n",
       "      <td>1.508467</td>\n",
       "    </tr>\n",
       "    <tr>\n",
       "      <th>2020-03-09</th>\n",
       "      <td>1.406569</td>\n",
       "      <td>-1.641007</td>\n",
       "      <td>0.829385</td>\n",
       "      <td>1.785618</td>\n",
       "    </tr>\n",
       "    <tr>\n",
       "      <th>2020-03-02</th>\n",
       "      <td>-0.458496</td>\n",
       "      <td>-0.169703</td>\n",
       "      <td>0.868031</td>\n",
       "      <td>1.853586</td>\n",
       "    </tr>\n",
       "    <tr>\n",
       "      <th>2020-03-04</th>\n",
       "      <td>-0.747917</td>\n",
       "      <td>-0.598876</td>\n",
       "      <td>1.432268</td>\n",
       "      <td>0.947864</td>\n",
       "    </tr>\n",
       "    <tr>\n",
       "      <th>2020-03-01</th>\n",
       "      <td>-1.224448</td>\n",
       "      <td>1.307649</td>\n",
       "      <td>1.491779</td>\n",
       "      <td>0.077821</td>\n",
       "    </tr>\n",
       "    <tr>\n",
       "      <th>2020-03-10</th>\n",
       "      <td>0.886130</td>\n",
       "      <td>0.548115</td>\n",
       "      <td>1.961502</td>\n",
       "      <td>0.197520</td>\n",
       "    </tr>\n",
       "  </tbody>\n",
       "</table>\n",
       "</div>"
      ],
      "text/plain": [
       "                   A         B         C         D\n",
       "2020-03-03  0.676724  1.020712 -1.008034  0.046598\n",
       "2020-03-06  0.401397  1.007713 -0.845438 -1.174674\n",
       "2020-03-07  0.558969 -0.409444 -0.815058  0.009850\n",
       "2020-03-08 -1.893372  0.970586 -0.239539  0.817231\n",
       "2020-03-05 -1.185416  1.402392 -0.139310  1.508467\n",
       "2020-03-09  1.406569 -1.641007  0.829385  1.785618\n",
       "2020-03-02 -0.458496 -0.169703  0.868031  1.853586\n",
       "2020-03-04 -0.747917 -0.598876  1.432268  0.947864\n",
       "2020-03-01 -1.224448  1.307649  1.491779  0.077821\n",
       "2020-03-10  0.886130  0.548115  1.961502  0.197520"
      ]
     },
     "execution_count": 12,
     "metadata": {},
     "output_type": "execute_result"
    }
   ],
   "source": [
    "df1.sort_values(by='C')"
   ]
  },
  {
   "cell_type": "code",
   "execution_count": 13,
   "metadata": {},
   "outputs": [
    {
     "data": {
      "text/plain": [
       "2020-03-01    1.491779\n",
       "2020-03-02    0.868031\n",
       "2020-03-03   -1.008034\n",
       "2020-03-04    1.432268\n",
       "2020-03-05   -0.139310\n",
       "2020-03-06   -0.845438\n",
       "2020-03-07   -0.815058\n",
       "2020-03-08   -0.239539\n",
       "2020-03-09    0.829385\n",
       "2020-03-10    1.961502\n",
       "Freq: D, Name: C, dtype: float64"
      ]
     },
     "execution_count": 13,
     "metadata": {},
     "output_type": "execute_result"
    }
   ],
   "source": [
    "#A single column\n",
    "df1['C']"
   ]
  },
  {
   "cell_type": "code",
   "execution_count": 14,
   "metadata": {},
   "outputs": [
    {
     "data": {
      "text/html": [
       "<div>\n",
       "<style scoped>\n",
       "    .dataframe tbody tr th:only-of-type {\n",
       "        vertical-align: middle;\n",
       "    }\n",
       "\n",
       "    .dataframe tbody tr th {\n",
       "        vertical-align: top;\n",
       "    }\n",
       "\n",
       "    .dataframe thead th {\n",
       "        text-align: right;\n",
       "    }\n",
       "</style>\n",
       "<table border=\"1\" class=\"dataframe\">\n",
       "  <thead>\n",
       "    <tr style=\"text-align: right;\">\n",
       "      <th></th>\n",
       "      <th>A</th>\n",
       "      <th>B</th>\n",
       "      <th>C</th>\n",
       "      <th>D</th>\n",
       "    </tr>\n",
       "  </thead>\n",
       "  <tbody>\n",
       "    <tr>\n",
       "      <th>2020-03-01</th>\n",
       "      <td>-1.224448</td>\n",
       "      <td>1.307649</td>\n",
       "      <td>1.491779</td>\n",
       "      <td>0.077821</td>\n",
       "    </tr>\n",
       "    <tr>\n",
       "      <th>2020-03-02</th>\n",
       "      <td>-0.458496</td>\n",
       "      <td>-0.169703</td>\n",
       "      <td>0.868031</td>\n",
       "      <td>1.853586</td>\n",
       "    </tr>\n",
       "    <tr>\n",
       "      <th>2020-03-03</th>\n",
       "      <td>0.676724</td>\n",
       "      <td>1.020712</td>\n",
       "      <td>-1.008034</td>\n",
       "      <td>0.046598</td>\n",
       "    </tr>\n",
       "  </tbody>\n",
       "</table>\n",
       "</div>"
      ],
      "text/plain": [
       "                   A         B         C         D\n",
       "2020-03-01 -1.224448  1.307649  1.491779  0.077821\n",
       "2020-03-02 -0.458496 -0.169703  0.868031  1.853586\n",
       "2020-03-03  0.676724  1.020712 -1.008034  0.046598"
      ]
     },
     "execution_count": 14,
     "metadata": {},
     "output_type": "execute_result"
    }
   ],
   "source": [
    "#Slcing\n",
    "df1[0:3]"
   ]
  },
  {
   "cell_type": "code",
   "execution_count": 16,
   "metadata": {},
   "outputs": [
    {
     "data": {
      "text/plain": [
       "A   -1.224448\n",
       "B    1.307649\n",
       "C    1.491779\n",
       "D    0.077821\n",
       "Name: 2020-03-01 00:00:00, dtype: float64"
      ]
     },
     "execution_count": 16,
     "metadata": {},
     "output_type": "execute_result"
    }
   ],
   "source": [
    "#Selecting using labels\n",
    "# note use location 'loc'\n",
    "df1.loc[d[0]]"
   ]
  },
  {
   "cell_type": "code",
   "execution_count": 17,
   "metadata": {},
   "outputs": [
    {
     "data": {
      "text/html": [
       "<div>\n",
       "<style scoped>\n",
       "    .dataframe tbody tr th:only-of-type {\n",
       "        vertical-align: middle;\n",
       "    }\n",
       "\n",
       "    .dataframe tbody tr th {\n",
       "        vertical-align: top;\n",
       "    }\n",
       "\n",
       "    .dataframe thead th {\n",
       "        text-align: right;\n",
       "    }\n",
       "</style>\n",
       "<table border=\"1\" class=\"dataframe\">\n",
       "  <thead>\n",
       "    <tr style=\"text-align: right;\">\n",
       "      <th></th>\n",
       "      <th>A</th>\n",
       "      <th>C</th>\n",
       "    </tr>\n",
       "  </thead>\n",
       "  <tbody>\n",
       "    <tr>\n",
       "      <th>2020-03-01</th>\n",
       "      <td>-1.224448</td>\n",
       "      <td>1.491779</td>\n",
       "    </tr>\n",
       "    <tr>\n",
       "      <th>2020-03-02</th>\n",
       "      <td>-0.458496</td>\n",
       "      <td>0.868031</td>\n",
       "    </tr>\n",
       "    <tr>\n",
       "      <th>2020-03-03</th>\n",
       "      <td>0.676724</td>\n",
       "      <td>-1.008034</td>\n",
       "    </tr>\n",
       "    <tr>\n",
       "      <th>2020-03-04</th>\n",
       "      <td>-0.747917</td>\n",
       "      <td>1.432268</td>\n",
       "    </tr>\n",
       "    <tr>\n",
       "      <th>2020-03-05</th>\n",
       "      <td>-1.185416</td>\n",
       "      <td>-0.139310</td>\n",
       "    </tr>\n",
       "    <tr>\n",
       "      <th>2020-03-06</th>\n",
       "      <td>0.401397</td>\n",
       "      <td>-0.845438</td>\n",
       "    </tr>\n",
       "    <tr>\n",
       "      <th>2020-03-07</th>\n",
       "      <td>0.558969</td>\n",
       "      <td>-0.815058</td>\n",
       "    </tr>\n",
       "    <tr>\n",
       "      <th>2020-03-08</th>\n",
       "      <td>-1.893372</td>\n",
       "      <td>-0.239539</td>\n",
       "    </tr>\n",
       "    <tr>\n",
       "      <th>2020-03-09</th>\n",
       "      <td>1.406569</td>\n",
       "      <td>0.829385</td>\n",
       "    </tr>\n",
       "    <tr>\n",
       "      <th>2020-03-10</th>\n",
       "      <td>0.886130</td>\n",
       "      <td>1.961502</td>\n",
       "    </tr>\n",
       "  </tbody>\n",
       "</table>\n",
       "</div>"
      ],
      "text/plain": [
       "                   A         C\n",
       "2020-03-01 -1.224448  1.491779\n",
       "2020-03-02 -0.458496  0.868031\n",
       "2020-03-03  0.676724 -1.008034\n",
       "2020-03-04 -0.747917  1.432268\n",
       "2020-03-05 -1.185416 -0.139310\n",
       "2020-03-06  0.401397 -0.845438\n",
       "2020-03-07  0.558969 -0.815058\n",
       "2020-03-08 -1.893372 -0.239539\n",
       "2020-03-09  1.406569  0.829385\n",
       "2020-03-10  0.886130  1.961502"
      ]
     },
     "execution_count": 17,
     "metadata": {},
     "output_type": "execute_result"
    }
   ],
   "source": [
    "#Selecting data on a multiple axes by labels\n",
    "df1.loc[:,['A','C']]"
   ]
  },
  {
   "cell_type": "code",
   "execution_count": 32,
   "metadata": {},
   "outputs": [
    {
     "data": {
      "text/plain": [
       "A    float64\n",
       "B    float64\n",
       "C    float64\n",
       "D    float64\n",
       "dtype: object"
      ]
     },
     "execution_count": 32,
     "metadata": {},
     "output_type": "execute_result"
    }
   ],
   "source": [
    "df1.dtypes"
   ]
  },
  {
   "cell_type": "code",
   "execution_count": null,
   "metadata": {},
   "outputs": [],
   "source": [
    "##HANDLING MISSING DATA"
   ]
  },
  {
   "cell_type": "code",
   "execution_count": 25,
   "metadata": {},
   "outputs": [],
   "source": [
    "df3 = df1.reindex(index=range(4), columns=list(df1.columns) + ['E'])"
   ]
  },
  {
   "cell_type": "code",
   "execution_count": 20,
   "metadata": {},
   "outputs": [
    {
     "data": {
      "text/html": [
       "<div>\n",
       "<style scoped>\n",
       "    .dataframe tbody tr th:only-of-type {\n",
       "        vertical-align: middle;\n",
       "    }\n",
       "\n",
       "    .dataframe tbody tr th {\n",
       "        vertical-align: top;\n",
       "    }\n",
       "\n",
       "    .dataframe thead th {\n",
       "        text-align: right;\n",
       "    }\n",
       "</style>\n",
       "<table border=\"1\" class=\"dataframe\">\n",
       "  <thead>\n",
       "    <tr style=\"text-align: right;\">\n",
       "      <th></th>\n",
       "      <th>A</th>\n",
       "      <th>B</th>\n",
       "      <th>C</th>\n",
       "      <th>D</th>\n",
       "      <th>E</th>\n",
       "      <th>F</th>\n",
       "    </tr>\n",
       "  </thead>\n",
       "  <tbody>\n",
       "    <tr>\n",
       "      <th>0</th>\n",
       "      <td>1</td>\n",
       "      <td>2020-03-01</td>\n",
       "      <td>1.0</td>\n",
       "      <td>5</td>\n",
       "      <td>True</td>\n",
       "      <td>Tutorial</td>\n",
       "    </tr>\n",
       "    <tr>\n",
       "      <th>1</th>\n",
       "      <td>2</td>\n",
       "      <td>2020-03-01</td>\n",
       "      <td>1.0</td>\n",
       "      <td>5</td>\n",
       "      <td>False</td>\n",
       "      <td>Tutorial</td>\n",
       "    </tr>\n",
       "    <tr>\n",
       "      <th>2</th>\n",
       "      <td>3</td>\n",
       "      <td>2020-03-01</td>\n",
       "      <td>1.0</td>\n",
       "      <td>5</td>\n",
       "      <td>True</td>\n",
       "      <td>Tutorial</td>\n",
       "    </tr>\n",
       "    <tr>\n",
       "      <th>3</th>\n",
       "      <td>4</td>\n",
       "      <td>2020-03-01</td>\n",
       "      <td>1.0</td>\n",
       "      <td>5</td>\n",
       "      <td>False</td>\n",
       "      <td>Tutorial</td>\n",
       "    </tr>\n",
       "  </tbody>\n",
       "</table>\n",
       "</div>"
      ],
      "text/plain": [
       "   A          B    C  D      E         F\n",
       "0  1 2020-03-01  1.0  5   True  Tutorial\n",
       "1  2 2020-03-01  1.0  5  False  Tutorial\n",
       "2  3 2020-03-01  1.0  5   True  Tutorial\n",
       "3  4 2020-03-01  1.0  5  False  Tutorial"
      ]
     },
     "execution_count": 20,
     "metadata": {},
     "output_type": "execute_result"
    }
   ],
   "source": [
    "df2 = pd.DataFrame({'A':[1,2,3,4],\n",
    "                   'B':pd.Timestamp('20200301'),\n",
    "                   'C':pd.Series(1,index=list(range(4)),dtype='float32'),\n",
    "                   'D':np.array([5]*4,dtype='int32'),\n",
    "                   'E':pd.Categorical(['True','False','True','False']),\n",
    "                   'F':'Tutorial'})\n",
    "\n",
    "# df = pd.DataFrame({\n",
    "#     'A': [1, 2, 3, 4],\n",
    "#     'B': ['20200301'] * 4,\n",
    "#     'C': [1.0] * 4,\n",
    "#     'D': [5] * 4,\n",
    "#     'E': [True, False, True, False],\n",
    "#     'F': ['Tutorial'] * 4\n",
    "# })\n",
    "df2\n",
    "\n"
   ]
  },
  {
   "cell_type": "code",
   "execution_count": 21,
   "metadata": {},
   "outputs": [
    {
     "data": {
      "text/plain": [
       "A            int64\n",
       "B    datetime64[s]\n",
       "C          float32\n",
       "D            int32\n",
       "E         category\n",
       "F           object\n",
       "dtype: object"
      ]
     },
     "execution_count": 21,
     "metadata": {},
     "output_type": "execute_result"
    }
   ],
   "source": [
    "df2.dtypes"
   ]
  },
  {
   "cell_type": "code",
   "execution_count": 22,
   "metadata": {},
   "outputs": [
    {
     "data": {
      "text/html": [
       "<div>\n",
       "<style scoped>\n",
       "    .dataframe tbody tr th:only-of-type {\n",
       "        vertical-align: middle;\n",
       "    }\n",
       "\n",
       "    .dataframe tbody tr th {\n",
       "        vertical-align: top;\n",
       "    }\n",
       "\n",
       "    .dataframe thead th {\n",
       "        text-align: right;\n",
       "    }\n",
       "</style>\n",
       "<table border=\"1\" class=\"dataframe\">\n",
       "  <thead>\n",
       "    <tr style=\"text-align: right;\">\n",
       "      <th></th>\n",
       "      <th>Name</th>\n",
       "      <th>Age</th>\n",
       "      <th>Country</th>\n",
       "    </tr>\n",
       "  </thead>\n",
       "  <tbody>\n",
       "    <tr>\n",
       "      <th>Person1</th>\n",
       "      <td>John</td>\n",
       "      <td>28</td>\n",
       "      <td>USA</td>\n",
       "    </tr>\n",
       "    <tr>\n",
       "      <th>Person2</th>\n",
       "      <td>Anna</td>\n",
       "      <td>24</td>\n",
       "      <td>UK</td>\n",
       "    </tr>\n",
       "    <tr>\n",
       "      <th>Person3</th>\n",
       "      <td>Peter</td>\n",
       "      <td>35</td>\n",
       "      <td>Australia</td>\n",
       "    </tr>\n",
       "    <tr>\n",
       "      <th>Person4</th>\n",
       "      <td>Linda</td>\n",
       "      <td>32</td>\n",
       "      <td>Germany</td>\n",
       "    </tr>\n",
       "  </tbody>\n",
       "</table>\n",
       "</div>"
      ],
      "text/plain": [
       "          Name  Age    Country\n",
       "Person1   John   28        USA\n",
       "Person2   Anna   24         UK\n",
       "Person3  Peter   35  Australia\n",
       "Person4  Linda   32    Germany"
      ]
     },
     "execution_count": 22,
     "metadata": {},
     "output_type": "execute_result"
    }
   ],
   "source": [
    "\n",
    "\n",
    "# Create a sample dataframe using a dictionary\n",
    "data = {'Name': ['John', 'Anna', 'Peter', 'Linda'],\n",
    "        'Age': [28, 24, 35, 32],\n",
    "        'Country': ['USA', 'UK', 'Australia', 'Germany']}\n",
    "df3 = pd.DataFrame(data, \n",
    "                  # The index parameter specifies the row labels of the dataframe\n",
    "                  # By default, pandas will create a numerical index starting from 0\n",
    "                  # However, you can pass a custom index or a column name to use as the index\n",
    "                  index=['Person1', 'Person2', 'Person3', 'Person4'])\n",
    "               \n",
    "\n",
    "df3"
   ]
  },
  {
   "cell_type": "code",
   "execution_count": 21,
   "metadata": {},
   "outputs": [
    {
     "data": {
      "text/plain": [
       "Name       object\n",
       "Age         int64\n",
       "Country    object\n",
       "dtype: object"
      ]
     },
     "execution_count": 21,
     "metadata": {},
     "output_type": "execute_result"
    }
   ],
   "source": [
    "df3.dtypes"
   ]
  }
 ],
 "metadata": {
  "kernelspec": {
   "display_name": ".venv",
   "language": "python",
   "name": "python3"
  },
  "language_info": {
   "codemirror_mode": {
    "name": "ipython",
    "version": 3
   },
   "file_extension": ".py",
   "mimetype": "text/x-python",
   "name": "python",
   "nbconvert_exporter": "python",
   "pygments_lexer": "ipython3",
   "version": "3.12.4"
  }
 },
 "nbformat": 4,
 "nbformat_minor": 2
}
