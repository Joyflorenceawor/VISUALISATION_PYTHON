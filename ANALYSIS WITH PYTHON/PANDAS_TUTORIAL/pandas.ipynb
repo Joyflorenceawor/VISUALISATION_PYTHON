{
 "cells": [
  {
   "cell_type": "code",
   "execution_count": 2,
   "metadata": {},
   "outputs": [],
   "source": [
    "import pandas as pd\n",
    "import numpy as np\n",
    "import seaborn as sns\n",
    "import matplotlib as plt"
   ]
  },
  {
   "cell_type": "code",
   "execution_count": 3,
   "metadata": {},
   "outputs": [
    {
     "data": {
      "text/plain": [
       "0     1.0\n",
       "1     2.0\n",
       "2     3.0\n",
       "3     4.0\n",
       "4     5.0\n",
       "5     NaN\n",
       "6     7.0\n",
       "7     8.0\n",
       "8     9.0\n",
       "9    10.0\n",
       "dtype: float64"
      ]
     },
     "execution_count": 3,
     "metadata": {},
     "output_type": "execute_result"
    }
   ],
   "source": [
    "s = pd.Series([1,2,3,4,5,np.nan,7,8,9,10])\n",
    "s"
   ]
  },
  {
   "cell_type": "code",
   "execution_count": 4,
   "metadata": {},
   "outputs": [
    {
     "data": {
      "text/plain": [
       "DatetimeIndex(['2020-03-01', '2020-03-02', '2020-03-03', '2020-03-04',\n",
       "               '2020-03-05', '2020-03-06', '2020-03-07', '2020-03-08',\n",
       "               '2020-03-09', '2020-03-10'],\n",
       "              dtype='datetime64[ns]', freq='D')"
      ]
     },
     "execution_count": 4,
     "metadata": {},
     "output_type": "execute_result"
    }
   ],
   "source": [
    "d = pd.date_range('20200301',periods=10)\n",
    "d"
   ]
  },
  {
   "cell_type": "code",
   "execution_count": 5,
   "metadata": {},
   "outputs": [
    {
     "data": {
      "text/html": [
       "<div>\n",
       "<style scoped>\n",
       "    .dataframe tbody tr th:only-of-type {\n",
       "        vertical-align: middle;\n",
       "    }\n",
       "\n",
       "    .dataframe tbody tr th {\n",
       "        vertical-align: top;\n",
       "    }\n",
       "\n",
       "    .dataframe thead th {\n",
       "        text-align: right;\n",
       "    }\n",
       "</style>\n",
       "<table border=\"1\" class=\"dataframe\">\n",
       "  <thead>\n",
       "    <tr style=\"text-align: right;\">\n",
       "      <th></th>\n",
       "      <th>A</th>\n",
       "      <th>B</th>\n",
       "      <th>C</th>\n",
       "      <th>D</th>\n",
       "    </tr>\n",
       "  </thead>\n",
       "  <tbody>\n",
       "    <tr>\n",
       "      <th>2020-03-01</th>\n",
       "      <td>2.218768</td>\n",
       "      <td>-0.171595</td>\n",
       "      <td>0.255520</td>\n",
       "      <td>-1.417341</td>\n",
       "    </tr>\n",
       "    <tr>\n",
       "      <th>2020-03-02</th>\n",
       "      <td>0.053679</td>\n",
       "      <td>-1.362240</td>\n",
       "      <td>0.518846</td>\n",
       "      <td>-0.144269</td>\n",
       "    </tr>\n",
       "    <tr>\n",
       "      <th>2020-03-03</th>\n",
       "      <td>-1.056433</td>\n",
       "      <td>0.613289</td>\n",
       "      <td>0.816141</td>\n",
       "      <td>0.575049</td>\n",
       "    </tr>\n",
       "    <tr>\n",
       "      <th>2020-03-04</th>\n",
       "      <td>0.130442</td>\n",
       "      <td>-0.482837</td>\n",
       "      <td>0.395950</td>\n",
       "      <td>-0.777227</td>\n",
       "    </tr>\n",
       "    <tr>\n",
       "      <th>2020-03-05</th>\n",
       "      <td>-0.539659</td>\n",
       "      <td>1.973715</td>\n",
       "      <td>1.492484</td>\n",
       "      <td>-0.346617</td>\n",
       "    </tr>\n",
       "    <tr>\n",
       "      <th>2020-03-06</th>\n",
       "      <td>-0.905821</td>\n",
       "      <td>-1.793223</td>\n",
       "      <td>-1.367707</td>\n",
       "      <td>-0.246014</td>\n",
       "    </tr>\n",
       "    <tr>\n",
       "      <th>2020-03-07</th>\n",
       "      <td>-0.808252</td>\n",
       "      <td>-0.198500</td>\n",
       "      <td>1.040469</td>\n",
       "      <td>0.270189</td>\n",
       "    </tr>\n",
       "    <tr>\n",
       "      <th>2020-03-08</th>\n",
       "      <td>0.294335</td>\n",
       "      <td>-0.452309</td>\n",
       "      <td>-0.178492</td>\n",
       "      <td>0.347313</td>\n",
       "    </tr>\n",
       "    <tr>\n",
       "      <th>2020-03-09</th>\n",
       "      <td>-0.508001</td>\n",
       "      <td>-0.014178</td>\n",
       "      <td>-0.403364</td>\n",
       "      <td>-0.559373</td>\n",
       "    </tr>\n",
       "    <tr>\n",
       "      <th>2020-03-10</th>\n",
       "      <td>0.390540</td>\n",
       "      <td>-1.586289</td>\n",
       "      <td>-0.600968</td>\n",
       "      <td>-2.073781</td>\n",
       "    </tr>\n",
       "  </tbody>\n",
       "</table>\n",
       "</div>"
      ],
      "text/plain": [
       "                   A         B         C         D\n",
       "2020-03-01  2.218768 -0.171595  0.255520 -1.417341\n",
       "2020-03-02  0.053679 -1.362240  0.518846 -0.144269\n",
       "2020-03-03 -1.056433  0.613289  0.816141  0.575049\n",
       "2020-03-04  0.130442 -0.482837  0.395950 -0.777227\n",
       "2020-03-05 -0.539659  1.973715  1.492484 -0.346617\n",
       "2020-03-06 -0.905821 -1.793223 -1.367707 -0.246014\n",
       "2020-03-07 -0.808252 -0.198500  1.040469  0.270189\n",
       "2020-03-08  0.294335 -0.452309 -0.178492  0.347313\n",
       "2020-03-09 -0.508001 -0.014178 -0.403364 -0.559373\n",
       "2020-03-10  0.390540 -1.586289 -0.600968 -2.073781"
      ]
     },
     "execution_count": 5,
     "metadata": {},
     "output_type": "execute_result"
    }
   ],
   "source": [
    "df1 = pd.DataFrame(np.random.randn(10,4),index=d,columns=['A','B','C','D'])\n",
    "df1"
   ]
  },
  {
   "cell_type": "code",
   "execution_count": 6,
   "metadata": {},
   "outputs": [
    {
     "data": {
      "text/html": [
       "<div>\n",
       "<style scoped>\n",
       "    .dataframe tbody tr th:only-of-type {\n",
       "        vertical-align: middle;\n",
       "    }\n",
       "\n",
       "    .dataframe tbody tr th {\n",
       "        vertical-align: top;\n",
       "    }\n",
       "\n",
       "    .dataframe thead th {\n",
       "        text-align: right;\n",
       "    }\n",
       "</style>\n",
       "<table border=\"1\" class=\"dataframe\">\n",
       "  <thead>\n",
       "    <tr style=\"text-align: right;\">\n",
       "      <th></th>\n",
       "      <th>A</th>\n",
       "      <th>B</th>\n",
       "      <th>C</th>\n",
       "      <th>D</th>\n",
       "    </tr>\n",
       "  </thead>\n",
       "  <tbody>\n",
       "    <tr>\n",
       "      <th>2020-03-01</th>\n",
       "      <td>2.218768</td>\n",
       "      <td>-0.171595</td>\n",
       "      <td>0.255520</td>\n",
       "      <td>-1.417341</td>\n",
       "    </tr>\n",
       "    <tr>\n",
       "      <th>2020-03-02</th>\n",
       "      <td>0.053679</td>\n",
       "      <td>-1.362240</td>\n",
       "      <td>0.518846</td>\n",
       "      <td>-0.144269</td>\n",
       "    </tr>\n",
       "    <tr>\n",
       "      <th>2020-03-03</th>\n",
       "      <td>-1.056433</td>\n",
       "      <td>0.613289</td>\n",
       "      <td>0.816141</td>\n",
       "      <td>0.575049</td>\n",
       "    </tr>\n",
       "    <tr>\n",
       "      <th>2020-03-04</th>\n",
       "      <td>0.130442</td>\n",
       "      <td>-0.482837</td>\n",
       "      <td>0.395950</td>\n",
       "      <td>-0.777227</td>\n",
       "    </tr>\n",
       "    <tr>\n",
       "      <th>2020-03-05</th>\n",
       "      <td>-0.539659</td>\n",
       "      <td>1.973715</td>\n",
       "      <td>1.492484</td>\n",
       "      <td>-0.346617</td>\n",
       "    </tr>\n",
       "  </tbody>\n",
       "</table>\n",
       "</div>"
      ],
      "text/plain": [
       "                   A         B         C         D\n",
       "2020-03-01  2.218768 -0.171595  0.255520 -1.417341\n",
       "2020-03-02  0.053679 -1.362240  0.518846 -0.144269\n",
       "2020-03-03 -1.056433  0.613289  0.816141  0.575049\n",
       "2020-03-04  0.130442 -0.482837  0.395950 -0.777227\n",
       "2020-03-05 -0.539659  1.973715  1.492484 -0.346617"
      ]
     },
     "execution_count": 6,
     "metadata": {},
     "output_type": "execute_result"
    }
   ],
   "source": [
    "#Viewing of the dataframe\n",
    "df1.head()"
   ]
  },
  {
   "cell_type": "code",
   "execution_count": 7,
   "metadata": {},
   "outputs": [
    {
     "data": {
      "text/plain": [
       "DatetimeIndex(['2020-03-01', '2020-03-02', '2020-03-03', '2020-03-04',\n",
       "               '2020-03-05', '2020-03-06', '2020-03-07', '2020-03-08',\n",
       "               '2020-03-09', '2020-03-10'],\n",
       "              dtype='datetime64[ns]', freq='D')"
      ]
     },
     "execution_count": 7,
     "metadata": {},
     "output_type": "execute_result"
    }
   ],
   "source": [
    "df1.index"
   ]
  },
  {
   "cell_type": "code",
   "execution_count": 8,
   "metadata": {},
   "outputs": [
    {
     "data": {
      "text/plain": [
       "Index(['A', 'B', 'C', 'D'], dtype='object')"
      ]
     },
     "execution_count": 8,
     "metadata": {},
     "output_type": "execute_result"
    }
   ],
   "source": [
    "df1.columns"
   ]
  },
  {
   "cell_type": "code",
   "execution_count": 9,
   "metadata": {},
   "outputs": [
    {
     "data": {
      "text/html": [
       "<div>\n",
       "<style scoped>\n",
       "    .dataframe tbody tr th:only-of-type {\n",
       "        vertical-align: middle;\n",
       "    }\n",
       "\n",
       "    .dataframe tbody tr th {\n",
       "        vertical-align: top;\n",
       "    }\n",
       "\n",
       "    .dataframe thead th {\n",
       "        text-align: right;\n",
       "    }\n",
       "</style>\n",
       "<table border=\"1\" class=\"dataframe\">\n",
       "  <thead>\n",
       "    <tr style=\"text-align: right;\">\n",
       "      <th></th>\n",
       "      <th>A</th>\n",
       "      <th>B</th>\n",
       "      <th>C</th>\n",
       "      <th>D</th>\n",
       "    </tr>\n",
       "  </thead>\n",
       "  <tbody>\n",
       "    <tr>\n",
       "      <th>count</th>\n",
       "      <td>10.000000</td>\n",
       "      <td>10.000000</td>\n",
       "      <td>10.000000</td>\n",
       "      <td>10.000000</td>\n",
       "    </tr>\n",
       "    <tr>\n",
       "      <th>mean</th>\n",
       "      <td>-0.073040</td>\n",
       "      <td>-0.347417</td>\n",
       "      <td>0.196888</td>\n",
       "      <td>-0.437207</td>\n",
       "    </tr>\n",
       "    <tr>\n",
       "      <th>std</th>\n",
       "      <td>0.958457</td>\n",
       "      <td>1.113509</td>\n",
       "      <td>0.850238</td>\n",
       "      <td>0.819261</td>\n",
       "    </tr>\n",
       "    <tr>\n",
       "      <th>min</th>\n",
       "      <td>-1.056433</td>\n",
       "      <td>-1.793223</td>\n",
       "      <td>-1.367707</td>\n",
       "      <td>-2.073781</td>\n",
       "    </tr>\n",
       "    <tr>\n",
       "      <th>25%</th>\n",
       "      <td>-0.741104</td>\n",
       "      <td>-1.142389</td>\n",
       "      <td>-0.347146</td>\n",
       "      <td>-0.722764</td>\n",
       "    </tr>\n",
       "    <tr>\n",
       "      <th>50%</th>\n",
       "      <td>-0.227161</td>\n",
       "      <td>-0.325405</td>\n",
       "      <td>0.325735</td>\n",
       "      <td>-0.296316</td>\n",
       "    </tr>\n",
       "    <tr>\n",
       "      <th>75%</th>\n",
       "      <td>0.253361</td>\n",
       "      <td>-0.053533</td>\n",
       "      <td>0.741818</td>\n",
       "      <td>0.166574</td>\n",
       "    </tr>\n",
       "    <tr>\n",
       "      <th>max</th>\n",
       "      <td>2.218768</td>\n",
       "      <td>1.973715</td>\n",
       "      <td>1.492484</td>\n",
       "      <td>0.575049</td>\n",
       "    </tr>\n",
       "  </tbody>\n",
       "</table>\n",
       "</div>"
      ],
      "text/plain": [
       "               A          B          C          D\n",
       "count  10.000000  10.000000  10.000000  10.000000\n",
       "mean   -0.073040  -0.347417   0.196888  -0.437207\n",
       "std     0.958457   1.113509   0.850238   0.819261\n",
       "min    -1.056433  -1.793223  -1.367707  -2.073781\n",
       "25%    -0.741104  -1.142389  -0.347146  -0.722764\n",
       "50%    -0.227161  -0.325405   0.325735  -0.296316\n",
       "75%     0.253361  -0.053533   0.741818   0.166574\n",
       "max     2.218768   1.973715   1.492484   0.575049"
      ]
     },
     "execution_count": 9,
     "metadata": {},
     "output_type": "execute_result"
    }
   ],
   "source": [
    "df1.describe()"
   ]
  },
  {
   "cell_type": "code",
   "execution_count": 10,
   "metadata": {},
   "outputs": [
    {
     "data": {
      "text/html": [
       "<div>\n",
       "<style scoped>\n",
       "    .dataframe tbody tr th:only-of-type {\n",
       "        vertical-align: middle;\n",
       "    }\n",
       "\n",
       "    .dataframe tbody tr th {\n",
       "        vertical-align: top;\n",
       "    }\n",
       "\n",
       "    .dataframe thead th {\n",
       "        text-align: right;\n",
       "    }\n",
       "</style>\n",
       "<table border=\"1\" class=\"dataframe\">\n",
       "  <thead>\n",
       "    <tr style=\"text-align: right;\">\n",
       "      <th></th>\n",
       "      <th>D</th>\n",
       "      <th>C</th>\n",
       "      <th>B</th>\n",
       "      <th>A</th>\n",
       "    </tr>\n",
       "  </thead>\n",
       "  <tbody>\n",
       "    <tr>\n",
       "      <th>2020-03-01</th>\n",
       "      <td>-1.417341</td>\n",
       "      <td>0.255520</td>\n",
       "      <td>-0.171595</td>\n",
       "      <td>2.218768</td>\n",
       "    </tr>\n",
       "    <tr>\n",
       "      <th>2020-03-02</th>\n",
       "      <td>-0.144269</td>\n",
       "      <td>0.518846</td>\n",
       "      <td>-1.362240</td>\n",
       "      <td>0.053679</td>\n",
       "    </tr>\n",
       "    <tr>\n",
       "      <th>2020-03-03</th>\n",
       "      <td>0.575049</td>\n",
       "      <td>0.816141</td>\n",
       "      <td>0.613289</td>\n",
       "      <td>-1.056433</td>\n",
       "    </tr>\n",
       "    <tr>\n",
       "      <th>2020-03-04</th>\n",
       "      <td>-0.777227</td>\n",
       "      <td>0.395950</td>\n",
       "      <td>-0.482837</td>\n",
       "      <td>0.130442</td>\n",
       "    </tr>\n",
       "    <tr>\n",
       "      <th>2020-03-05</th>\n",
       "      <td>-0.346617</td>\n",
       "      <td>1.492484</td>\n",
       "      <td>1.973715</td>\n",
       "      <td>-0.539659</td>\n",
       "    </tr>\n",
       "    <tr>\n",
       "      <th>2020-03-06</th>\n",
       "      <td>-0.246014</td>\n",
       "      <td>-1.367707</td>\n",
       "      <td>-1.793223</td>\n",
       "      <td>-0.905821</td>\n",
       "    </tr>\n",
       "    <tr>\n",
       "      <th>2020-03-07</th>\n",
       "      <td>0.270189</td>\n",
       "      <td>1.040469</td>\n",
       "      <td>-0.198500</td>\n",
       "      <td>-0.808252</td>\n",
       "    </tr>\n",
       "    <tr>\n",
       "      <th>2020-03-08</th>\n",
       "      <td>0.347313</td>\n",
       "      <td>-0.178492</td>\n",
       "      <td>-0.452309</td>\n",
       "      <td>0.294335</td>\n",
       "    </tr>\n",
       "    <tr>\n",
       "      <th>2020-03-09</th>\n",
       "      <td>-0.559373</td>\n",
       "      <td>-0.403364</td>\n",
       "      <td>-0.014178</td>\n",
       "      <td>-0.508001</td>\n",
       "    </tr>\n",
       "    <tr>\n",
       "      <th>2020-03-10</th>\n",
       "      <td>-2.073781</td>\n",
       "      <td>-0.600968</td>\n",
       "      <td>-1.586289</td>\n",
       "      <td>0.390540</td>\n",
       "    </tr>\n",
       "  </tbody>\n",
       "</table>\n",
       "</div>"
      ],
      "text/plain": [
       "                   D         C         B         A\n",
       "2020-03-01 -1.417341  0.255520 -0.171595  2.218768\n",
       "2020-03-02 -0.144269  0.518846 -1.362240  0.053679\n",
       "2020-03-03  0.575049  0.816141  0.613289 -1.056433\n",
       "2020-03-04 -0.777227  0.395950 -0.482837  0.130442\n",
       "2020-03-05 -0.346617  1.492484  1.973715 -0.539659\n",
       "2020-03-06 -0.246014 -1.367707 -1.793223 -0.905821\n",
       "2020-03-07  0.270189  1.040469 -0.198500 -0.808252\n",
       "2020-03-08  0.347313 -0.178492 -0.452309  0.294335\n",
       "2020-03-09 -0.559373 -0.403364 -0.014178 -0.508001\n",
       "2020-03-10 -2.073781 -0.600968 -1.586289  0.390540"
      ]
     },
     "execution_count": 10,
     "metadata": {},
     "output_type": "execute_result"
    }
   ],
   "source": [
    "df1.sort_index(axis=1, ascending=False)\n",
    "#axis1 means sort the columns in descending other"
   ]
  },
  {
   "cell_type": "code",
   "execution_count": 11,
   "metadata": {},
   "outputs": [
    {
     "data": {
      "text/html": [
       "<div>\n",
       "<style scoped>\n",
       "    .dataframe tbody tr th:only-of-type {\n",
       "        vertical-align: middle;\n",
       "    }\n",
       "\n",
       "    .dataframe tbody tr th {\n",
       "        vertical-align: top;\n",
       "    }\n",
       "\n",
       "    .dataframe thead th {\n",
       "        text-align: right;\n",
       "    }\n",
       "</style>\n",
       "<table border=\"1\" class=\"dataframe\">\n",
       "  <thead>\n",
       "    <tr style=\"text-align: right;\">\n",
       "      <th></th>\n",
       "      <th>A</th>\n",
       "      <th>B</th>\n",
       "      <th>C</th>\n",
       "      <th>D</th>\n",
       "    </tr>\n",
       "  </thead>\n",
       "  <tbody>\n",
       "    <tr>\n",
       "      <th>2020-03-06</th>\n",
       "      <td>-0.905821</td>\n",
       "      <td>-1.793223</td>\n",
       "      <td>-1.367707</td>\n",
       "      <td>-0.246014</td>\n",
       "    </tr>\n",
       "    <tr>\n",
       "      <th>2020-03-10</th>\n",
       "      <td>0.390540</td>\n",
       "      <td>-1.586289</td>\n",
       "      <td>-0.600968</td>\n",
       "      <td>-2.073781</td>\n",
       "    </tr>\n",
       "    <tr>\n",
       "      <th>2020-03-09</th>\n",
       "      <td>-0.508001</td>\n",
       "      <td>-0.014178</td>\n",
       "      <td>-0.403364</td>\n",
       "      <td>-0.559373</td>\n",
       "    </tr>\n",
       "    <tr>\n",
       "      <th>2020-03-08</th>\n",
       "      <td>0.294335</td>\n",
       "      <td>-0.452309</td>\n",
       "      <td>-0.178492</td>\n",
       "      <td>0.347313</td>\n",
       "    </tr>\n",
       "    <tr>\n",
       "      <th>2020-03-01</th>\n",
       "      <td>2.218768</td>\n",
       "      <td>-0.171595</td>\n",
       "      <td>0.255520</td>\n",
       "      <td>-1.417341</td>\n",
       "    </tr>\n",
       "    <tr>\n",
       "      <th>2020-03-04</th>\n",
       "      <td>0.130442</td>\n",
       "      <td>-0.482837</td>\n",
       "      <td>0.395950</td>\n",
       "      <td>-0.777227</td>\n",
       "    </tr>\n",
       "    <tr>\n",
       "      <th>2020-03-02</th>\n",
       "      <td>0.053679</td>\n",
       "      <td>-1.362240</td>\n",
       "      <td>0.518846</td>\n",
       "      <td>-0.144269</td>\n",
       "    </tr>\n",
       "    <tr>\n",
       "      <th>2020-03-03</th>\n",
       "      <td>-1.056433</td>\n",
       "      <td>0.613289</td>\n",
       "      <td>0.816141</td>\n",
       "      <td>0.575049</td>\n",
       "    </tr>\n",
       "    <tr>\n",
       "      <th>2020-03-07</th>\n",
       "      <td>-0.808252</td>\n",
       "      <td>-0.198500</td>\n",
       "      <td>1.040469</td>\n",
       "      <td>0.270189</td>\n",
       "    </tr>\n",
       "    <tr>\n",
       "      <th>2020-03-05</th>\n",
       "      <td>-0.539659</td>\n",
       "      <td>1.973715</td>\n",
       "      <td>1.492484</td>\n",
       "      <td>-0.346617</td>\n",
       "    </tr>\n",
       "  </tbody>\n",
       "</table>\n",
       "</div>"
      ],
      "text/plain": [
       "                   A         B         C         D\n",
       "2020-03-06 -0.905821 -1.793223 -1.367707 -0.246014\n",
       "2020-03-10  0.390540 -1.586289 -0.600968 -2.073781\n",
       "2020-03-09 -0.508001 -0.014178 -0.403364 -0.559373\n",
       "2020-03-08  0.294335 -0.452309 -0.178492  0.347313\n",
       "2020-03-01  2.218768 -0.171595  0.255520 -1.417341\n",
       "2020-03-04  0.130442 -0.482837  0.395950 -0.777227\n",
       "2020-03-02  0.053679 -1.362240  0.518846 -0.144269\n",
       "2020-03-03 -1.056433  0.613289  0.816141  0.575049\n",
       "2020-03-07 -0.808252 -0.198500  1.040469  0.270189\n",
       "2020-03-05 -0.539659  1.973715  1.492484 -0.346617"
      ]
     },
     "execution_count": 11,
     "metadata": {},
     "output_type": "execute_result"
    }
   ],
   "source": [
    "df1.sort_values(by='C')"
   ]
  },
  {
   "cell_type": "code",
   "execution_count": 12,
   "metadata": {},
   "outputs": [
    {
     "data": {
      "text/plain": [
       "2020-03-01    0.255520\n",
       "2020-03-02    0.518846\n",
       "2020-03-03    0.816141\n",
       "2020-03-04    0.395950\n",
       "2020-03-05    1.492484\n",
       "2020-03-06   -1.367707\n",
       "2020-03-07    1.040469\n",
       "2020-03-08   -0.178492\n",
       "2020-03-09   -0.403364\n",
       "2020-03-10   -0.600968\n",
       "Freq: D, Name: C, dtype: float64"
      ]
     },
     "execution_count": 12,
     "metadata": {},
     "output_type": "execute_result"
    }
   ],
   "source": [
    "#A single column\n",
    "df1['C']"
   ]
  },
  {
   "cell_type": "code",
   "execution_count": 13,
   "metadata": {},
   "outputs": [
    {
     "data": {
      "text/html": [
       "<div>\n",
       "<style scoped>\n",
       "    .dataframe tbody tr th:only-of-type {\n",
       "        vertical-align: middle;\n",
       "    }\n",
       "\n",
       "    .dataframe tbody tr th {\n",
       "        vertical-align: top;\n",
       "    }\n",
       "\n",
       "    .dataframe thead th {\n",
       "        text-align: right;\n",
       "    }\n",
       "</style>\n",
       "<table border=\"1\" class=\"dataframe\">\n",
       "  <thead>\n",
       "    <tr style=\"text-align: right;\">\n",
       "      <th></th>\n",
       "      <th>A</th>\n",
       "      <th>B</th>\n",
       "      <th>C</th>\n",
       "      <th>D</th>\n",
       "    </tr>\n",
       "  </thead>\n",
       "  <tbody>\n",
       "    <tr>\n",
       "      <th>2020-03-01</th>\n",
       "      <td>2.218768</td>\n",
       "      <td>-0.171595</td>\n",
       "      <td>0.255520</td>\n",
       "      <td>-1.417341</td>\n",
       "    </tr>\n",
       "    <tr>\n",
       "      <th>2020-03-02</th>\n",
       "      <td>0.053679</td>\n",
       "      <td>-1.362240</td>\n",
       "      <td>0.518846</td>\n",
       "      <td>-0.144269</td>\n",
       "    </tr>\n",
       "    <tr>\n",
       "      <th>2020-03-03</th>\n",
       "      <td>-1.056433</td>\n",
       "      <td>0.613289</td>\n",
       "      <td>0.816141</td>\n",
       "      <td>0.575049</td>\n",
       "    </tr>\n",
       "  </tbody>\n",
       "</table>\n",
       "</div>"
      ],
      "text/plain": [
       "                   A         B         C         D\n",
       "2020-03-01  2.218768 -0.171595  0.255520 -1.417341\n",
       "2020-03-02  0.053679 -1.362240  0.518846 -0.144269\n",
       "2020-03-03 -1.056433  0.613289  0.816141  0.575049"
      ]
     },
     "execution_count": 13,
     "metadata": {},
     "output_type": "execute_result"
    }
   ],
   "source": [
    "#Slcing\n",
    "df1[0:3]"
   ]
  },
  {
   "cell_type": "code",
   "execution_count": 14,
   "metadata": {},
   "outputs": [
    {
     "data": {
      "text/plain": [
       "A    2.218768\n",
       "B   -0.171595\n",
       "C    0.255520\n",
       "D   -1.417341\n",
       "Name: 2020-03-01 00:00:00, dtype: float64"
      ]
     },
     "execution_count": 14,
     "metadata": {},
     "output_type": "execute_result"
    }
   ],
   "source": [
    "#Selecting using labels\n",
    "# note use location 'loc'\n",
    "df1.loc[d[0]]"
   ]
  },
  {
   "cell_type": "code",
   "execution_count": 15,
   "metadata": {},
   "outputs": [
    {
     "data": {
      "text/html": [
       "<div>\n",
       "<style scoped>\n",
       "    .dataframe tbody tr th:only-of-type {\n",
       "        vertical-align: middle;\n",
       "    }\n",
       "\n",
       "    .dataframe tbody tr th {\n",
       "        vertical-align: top;\n",
       "    }\n",
       "\n",
       "    .dataframe thead th {\n",
       "        text-align: right;\n",
       "    }\n",
       "</style>\n",
       "<table border=\"1\" class=\"dataframe\">\n",
       "  <thead>\n",
       "    <tr style=\"text-align: right;\">\n",
       "      <th></th>\n",
       "      <th>A</th>\n",
       "      <th>C</th>\n",
       "    </tr>\n",
       "  </thead>\n",
       "  <tbody>\n",
       "    <tr>\n",
       "      <th>2020-03-01</th>\n",
       "      <td>2.218768</td>\n",
       "      <td>0.255520</td>\n",
       "    </tr>\n",
       "    <tr>\n",
       "      <th>2020-03-02</th>\n",
       "      <td>0.053679</td>\n",
       "      <td>0.518846</td>\n",
       "    </tr>\n",
       "    <tr>\n",
       "      <th>2020-03-03</th>\n",
       "      <td>-1.056433</td>\n",
       "      <td>0.816141</td>\n",
       "    </tr>\n",
       "    <tr>\n",
       "      <th>2020-03-04</th>\n",
       "      <td>0.130442</td>\n",
       "      <td>0.395950</td>\n",
       "    </tr>\n",
       "    <tr>\n",
       "      <th>2020-03-05</th>\n",
       "      <td>-0.539659</td>\n",
       "      <td>1.492484</td>\n",
       "    </tr>\n",
       "    <tr>\n",
       "      <th>2020-03-06</th>\n",
       "      <td>-0.905821</td>\n",
       "      <td>-1.367707</td>\n",
       "    </tr>\n",
       "    <tr>\n",
       "      <th>2020-03-07</th>\n",
       "      <td>-0.808252</td>\n",
       "      <td>1.040469</td>\n",
       "    </tr>\n",
       "    <tr>\n",
       "      <th>2020-03-08</th>\n",
       "      <td>0.294335</td>\n",
       "      <td>-0.178492</td>\n",
       "    </tr>\n",
       "    <tr>\n",
       "      <th>2020-03-09</th>\n",
       "      <td>-0.508001</td>\n",
       "      <td>-0.403364</td>\n",
       "    </tr>\n",
       "    <tr>\n",
       "      <th>2020-03-10</th>\n",
       "      <td>0.390540</td>\n",
       "      <td>-0.600968</td>\n",
       "    </tr>\n",
       "  </tbody>\n",
       "</table>\n",
       "</div>"
      ],
      "text/plain": [
       "                   A         C\n",
       "2020-03-01  2.218768  0.255520\n",
       "2020-03-02  0.053679  0.518846\n",
       "2020-03-03 -1.056433  0.816141\n",
       "2020-03-04  0.130442  0.395950\n",
       "2020-03-05 -0.539659  1.492484\n",
       "2020-03-06 -0.905821 -1.367707\n",
       "2020-03-07 -0.808252  1.040469\n",
       "2020-03-08  0.294335 -0.178492\n",
       "2020-03-09 -0.508001 -0.403364\n",
       "2020-03-10  0.390540 -0.600968"
      ]
     },
     "execution_count": 15,
     "metadata": {},
     "output_type": "execute_result"
    }
   ],
   "source": [
    "#Selecting data on a multiple axes by labels\n",
    "df1.loc[:,['A','C']]"
   ]
  },
  {
   "cell_type": "code",
   "execution_count": 16,
   "metadata": {},
   "outputs": [
    {
     "data": {
      "text/plain": [
       "A    float64\n",
       "B    float64\n",
       "C    float64\n",
       "D    float64\n",
       "dtype: object"
      ]
     },
     "execution_count": 16,
     "metadata": {},
     "output_type": "execute_result"
    }
   ],
   "source": [
    "df1.dtypes"
   ]
  },
  {
   "cell_type": "code",
   "execution_count": 17,
   "metadata": {},
   "outputs": [],
   "source": [
    "##HANDLING MISSING DATA"
   ]
  },
  {
   "cell_type": "code",
   "execution_count": 18,
   "metadata": {},
   "outputs": [],
   "source": [
    "df3 = df1.reindex(index=range(4), columns=list(df1.columns) + ['E'])"
   ]
  },
  {
   "cell_type": "code",
   "execution_count": 19,
   "metadata": {},
   "outputs": [
    {
     "data": {
      "text/html": [
       "<div>\n",
       "<style scoped>\n",
       "    .dataframe tbody tr th:only-of-type {\n",
       "        vertical-align: middle;\n",
       "    }\n",
       "\n",
       "    .dataframe tbody tr th {\n",
       "        vertical-align: top;\n",
       "    }\n",
       "\n",
       "    .dataframe thead th {\n",
       "        text-align: right;\n",
       "    }\n",
       "</style>\n",
       "<table border=\"1\" class=\"dataframe\">\n",
       "  <thead>\n",
       "    <tr style=\"text-align: right;\">\n",
       "      <th></th>\n",
       "      <th>A</th>\n",
       "      <th>B</th>\n",
       "      <th>C</th>\n",
       "      <th>D</th>\n",
       "      <th>E</th>\n",
       "      <th>F</th>\n",
       "    </tr>\n",
       "  </thead>\n",
       "  <tbody>\n",
       "    <tr>\n",
       "      <th>0</th>\n",
       "      <td>1</td>\n",
       "      <td>2020-03-01</td>\n",
       "      <td>1.0</td>\n",
       "      <td>5</td>\n",
       "      <td>True</td>\n",
       "      <td>Tutorial</td>\n",
       "    </tr>\n",
       "    <tr>\n",
       "      <th>1</th>\n",
       "      <td>2</td>\n",
       "      <td>2020-03-01</td>\n",
       "      <td>1.0</td>\n",
       "      <td>5</td>\n",
       "      <td>False</td>\n",
       "      <td>Tutorial</td>\n",
       "    </tr>\n",
       "    <tr>\n",
       "      <th>2</th>\n",
       "      <td>3</td>\n",
       "      <td>2020-03-01</td>\n",
       "      <td>1.0</td>\n",
       "      <td>5</td>\n",
       "      <td>True</td>\n",
       "      <td>Tutorial</td>\n",
       "    </tr>\n",
       "    <tr>\n",
       "      <th>3</th>\n",
       "      <td>4</td>\n",
       "      <td>2020-03-01</td>\n",
       "      <td>1.0</td>\n",
       "      <td>5</td>\n",
       "      <td>False</td>\n",
       "      <td>Tutorial</td>\n",
       "    </tr>\n",
       "  </tbody>\n",
       "</table>\n",
       "</div>"
      ],
      "text/plain": [
       "   A          B    C  D      E         F\n",
       "0  1 2020-03-01  1.0  5   True  Tutorial\n",
       "1  2 2020-03-01  1.0  5  False  Tutorial\n",
       "2  3 2020-03-01  1.0  5   True  Tutorial\n",
       "3  4 2020-03-01  1.0  5  False  Tutorial"
      ]
     },
     "execution_count": 19,
     "metadata": {},
     "output_type": "execute_result"
    }
   ],
   "source": [
    "df2 = pd.DataFrame({'A':[1,2,3,4],\n",
    "                   'B':pd.Timestamp('20200301'),\n",
    "                   'C':pd.Series(1,index=list(range(4)),dtype='float32'),\n",
    "                   'D':np.array([5]*4,dtype='int32'),\n",
    "                   'E':pd.Categorical(['True','False','True','False']),\n",
    "                   'F':'Tutorial'})\n",
    "\n",
    "# df = pd.DataFrame({\n",
    "#     'A': [1, 2, 3, 4],\n",
    "#     'B': ['20200301'] * 4,\n",
    "#     'C': [1.0] * 4,\n",
    "#     'D': [5] * 4,\n",
    "#     'E': [True, False, True, False],\n",
    "#     'F': ['Tutorial'] * 4\n",
    "# })\n",
    "df2\n",
    "\n"
   ]
  },
  {
   "cell_type": "code",
   "execution_count": 21,
   "metadata": {},
   "outputs": [
    {
     "data": {
      "text/plain": [
       "A            int64\n",
       "B    datetime64[s]\n",
       "C          float32\n",
       "D            int32\n",
       "E         category\n",
       "F           object\n",
       "dtype: object"
      ]
     },
     "execution_count": 21,
     "metadata": {},
     "output_type": "execute_result"
    }
   ],
   "source": [
    "df2.dtypes"
   ]
  },
  {
   "cell_type": "code",
   "execution_count": 21,
   "metadata": {},
   "outputs": [
    {
     "data": {
      "text/html": [
       "<div>\n",
       "<style scoped>\n",
       "    .dataframe tbody tr th:only-of-type {\n",
       "        vertical-align: middle;\n",
       "    }\n",
       "\n",
       "    .dataframe tbody tr th {\n",
       "        vertical-align: top;\n",
       "    }\n",
       "\n",
       "    .dataframe thead th {\n",
       "        text-align: right;\n",
       "    }\n",
       "</style>\n",
       "<table border=\"1\" class=\"dataframe\">\n",
       "  <thead>\n",
       "    <tr style=\"text-align: right;\">\n",
       "      <th></th>\n",
       "      <th>Name</th>\n",
       "      <th>Age</th>\n",
       "      <th>Country</th>\n",
       "    </tr>\n",
       "  </thead>\n",
       "  <tbody>\n",
       "    <tr>\n",
       "      <th>Person1</th>\n",
       "      <td>John</td>\n",
       "      <td>28</td>\n",
       "      <td>USA</td>\n",
       "    </tr>\n",
       "    <tr>\n",
       "      <th>Person2</th>\n",
       "      <td>Anna</td>\n",
       "      <td>24</td>\n",
       "      <td>UK</td>\n",
       "    </tr>\n",
       "    <tr>\n",
       "      <th>Person3</th>\n",
       "      <td>Peter</td>\n",
       "      <td>35</td>\n",
       "      <td>Australia</td>\n",
       "    </tr>\n",
       "    <tr>\n",
       "      <th>Person4</th>\n",
       "      <td>Linda</td>\n",
       "      <td>32</td>\n",
       "      <td>Germany</td>\n",
       "    </tr>\n",
       "  </tbody>\n",
       "</table>\n",
       "</div>"
      ],
      "text/plain": [
       "          Name  Age    Country\n",
       "Person1   John   28        USA\n",
       "Person2   Anna   24         UK\n",
       "Person3  Peter   35  Australia\n",
       "Person4  Linda   32    Germany"
      ]
     },
     "execution_count": 21,
     "metadata": {},
     "output_type": "execute_result"
    }
   ],
   "source": [
    "\n",
    "\n",
    "# Create a sample dataframe using a dictionary\n",
    "data = {'Name': ['John', 'Anna', 'Peter', 'Linda'],\n",
    "        'Age': [28, 24, 35, 32],\n",
    "        'Country': ['USA', 'UK', 'Australia', 'Germany']}\n",
    "df3 = pd.DataFrame(data, \n",
    "                  # The index parameter specifies the row labels of the dataframe\n",
    "                  # By default, pandas will create a numerical index starting from 0\n",
    "                  # However, you can pass a custom index or a column name to use as the index\n",
    "                  index=['Person1', 'Person2', 'Person3', 'Person4'])\n",
    "               \n",
    "\n",
    "df3"
   ]
  },
  {
   "cell_type": "code",
   "execution_count": 22,
   "metadata": {},
   "outputs": [
    {
     "data": {
      "text/plain": [
       "Name       object\n",
       "Age         int64\n",
       "Country    object\n",
       "dtype: object"
      ]
     },
     "execution_count": 22,
     "metadata": {},
     "output_type": "execute_result"
    }
   ],
   "source": [
    "df3.dtypes"
   ]
  }
 ],
 "metadata": {
  "kernelspec": {
   "display_name": ".venv",
   "language": "python",
   "name": "python3"
  },
  "language_info": {
   "codemirror_mode": {
    "name": "ipython",
    "version": 3
   },
   "file_extension": ".py",
   "mimetype": "text/x-python",
   "name": "python",
   "nbconvert_exporter": "python",
   "pygments_lexer": "ipython3",
   "version": "3.12.4"
  }
 },
 "nbformat": 4,
 "nbformat_minor": 2
}
